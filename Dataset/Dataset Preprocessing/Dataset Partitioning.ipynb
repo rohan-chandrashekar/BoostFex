{
 "cells": [
  {
   "cell_type": "code",
   "execution_count": 1,
   "metadata": {},
   "outputs": [],
   "source": [
    "import pandas as pd\n",
    "from sklearn.model_selection import train_test_split"
   ]
  },
  {
   "cell_type": "code",
   "execution_count": 2,
   "metadata": {},
   "outputs": [],
   "source": [
    "# Load the dataset\n",
    "df = pd.read_csv('New_Dataset.csv')\n",
    "\n",
    "# Ensure there are no missing values or key errors\n",
    "df.dropna(inplace=True)\n",
    "\n",
    "# Split the dataset\n",
    "train_df, temp_df = train_test_split(df, test_size=0.3, stratify=df['isFraud'], random_state=42)\n",
    "val_df, test_df = train_test_split(temp_df, test_size=0.5, stratify=temp_df['isFraud'], random_state=42)"
   ]
  },
  {
   "cell_type": "code",
   "execution_count": 3,
   "metadata": {},
   "outputs": [
    {
     "name": "stdout",
     "output_type": "stream",
     "text": [
      "isFraud\n",
      "0    0.909309\n",
      "1    0.090691\n",
      "Name: proportion, dtype: float64\n",
      "isFraud\n",
      "0    0.909309\n",
      "1    0.090691\n",
      "Name: proportion, dtype: float64\n",
      "isFraud\n",
      "0    0.909309\n",
      "1    0.090691\n",
      "Name: proportion, dtype: float64\n"
     ]
    }
   ],
   "source": [
    "# Verify the splits\n",
    "print(train_df['isFraud'].value_counts(normalize=True))\n",
    "print(val_df['isFraud'].value_counts(normalize=True))\n",
    "print(test_df['isFraud'].value_counts(normalize=True))"
   ]
  },
  {
   "cell_type": "code",
   "execution_count": 4,
   "metadata": {},
   "outputs": [],
   "source": [
    "# Save the splits\n",
    "train_df.to_csv('train.csv', index=False)\n",
    "val_df.to_csv('val.csv', index=False)\n",
    "test_df.to_csv('test.csv', index=False)"
   ]
  }
 ],
 "metadata": {
  "kernelspec": {
   "display_name": "base",
   "language": "python",
   "name": "python3"
  },
  "language_info": {
   "codemirror_mode": {
    "name": "ipython",
    "version": 3
   },
   "file_extension": ".py",
   "mimetype": "text/x-python",
   "name": "python",
   "nbconvert_exporter": "python",
   "pygments_lexer": "ipython3",
   "version": "3.11.7"
  }
 },
 "nbformat": 4,
 "nbformat_minor": 2
}
