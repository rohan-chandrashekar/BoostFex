{
 "cells": [
  {
   "cell_type": "code",
   "execution_count": 1,
   "metadata": {},
   "outputs": [],
   "source": [
    "# Assuming the environment has pandas library installed. If not, you need to install it using pip install pandas\n",
    "\n",
    "import pandas as pd\n",
    "from sklearn.model_selection import train_test_split"
   ]
  },
  {
   "cell_type": "code",
   "execution_count": 2,
   "metadata": {},
   "outputs": [],
   "source": [
    "# Load your dataset\n",
    "df = pd.read_csv('PS_20240506105225_1280994728_rawLog.csv')"
   ]
  },
  {
   "cell_type": "code",
   "execution_count": 3,
   "metadata": {},
   "outputs": [],
   "source": [
    "#One-Hot Encoding for the transaction type\n",
    "df=pd.concat([df,pd.get_dummies(df['action'])],axis=1)\n",
    "df.drop(['action'],axis=1,inplace = True)"
   ]
  },
  {
   "cell_type": "code",
   "execution_count": 4,
   "metadata": {},
   "outputs": [],
   "source": [
    "# Creating a function to tokenize a column\n",
    "def tokenize_column(column):\n",
    "    # Create a dictionary that maps each unique name to an integer\n",
    "    unique_names = {name: id for id, name in enumerate(column.unique())}\n",
    "    # Replace each name in the column with its corresponding integer\n",
    "    return column.map(unique_names)\n",
    "\n",
    "# Tokenize 'nameOrig' and 'nameDest'\n",
    "df['nameOrig'] = tokenize_column(df['nameOrig'])\n",
    "df['nameDest'] = tokenize_column(df['nameDest'])"
   ]
  },
  {
   "cell_type": "code",
   "execution_count": 5,
   "metadata": {},
   "outputs": [],
   "source": [
    "#Dropping other columns\n",
    "df = df.drop(['isFlaggedFraud'],axis=1)\n",
    "df = df.drop(['step'],axis=1)\n",
    "df = df.drop(['oldBalanceOrig'],axis=1)\n",
    "df = df.drop(['newBalanceOrig'],axis=1)\n",
    "df = df.drop(['oldBalanceDest'],axis=1)\n",
    "df = df.drop(['newBalanceDest'],axis=1)\n",
    "df = df.drop(['isUnauthorizedOverdraft'], axis=1)\n",
    "df = df.reset_index(drop=True)"
   ]
  },
  {
   "cell_type": "code",
   "execution_count": 6,
   "metadata": {},
   "outputs": [],
   "source": [
    "for col in ['CASH_IN', 'CASH_OUT', 'DEBIT', 'PAYMENT', 'TRANSFER']:\n",
    "    df[col] = df[col].astype(int)"
   ]
  },
  {
   "cell_type": "code",
   "execution_count": 7,
   "metadata": {},
   "outputs": [],
   "source": [
    "#Write New Big Dataset\n",
    "df.to_csv('NewDataset.csv', index=False)"
   ]
  }
 ],
 "metadata": {
  "kernelspec": {
   "display_name": "base",
   "language": "python",
   "name": "python3"
  },
  "language_info": {
   "codemirror_mode": {
    "name": "ipython",
    "version": 3
   },
   "file_extension": ".py",
   "mimetype": "text/x-python",
   "name": "python",
   "nbconvert_exporter": "python",
   "pygments_lexer": "ipython3",
   "version": "3.11.7"
  }
 },
 "nbformat": 4,
 "nbformat_minor": 2
}
